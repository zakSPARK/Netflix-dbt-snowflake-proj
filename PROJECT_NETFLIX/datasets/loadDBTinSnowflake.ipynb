{
 "cells": [
  {
   "cell_type": "code",
   "execution_count": 1,
   "metadata": {},
   "outputs": [
    {
     "name": "stdout",
     "output_type": "stream",
     "text": [
      "hello world ok\n"
     ]
    }
   ],
   "source": [
    "print('hello world ok')"
   ]
  },
  {
   "cell_type": "code",
   "execution_count": 2,
   "metadata": {},
   "outputs": [
    {
     "name": "stdout",
     "output_type": "stream",
     "text": [
      "Requirement already satisfied: snowflake-connector-python in /Users/mac/anaconda3/lib/python3.11/site-packages (3.3.1)\n",
      "Requirement already satisfied: asn1crypto<2.0.0,>0.24.0 in /Users/mac/anaconda3/lib/python3.11/site-packages (from snowflake-connector-python) (1.5.1)\n",
      "Requirement already satisfied: cffi<2.0.0,>=1.9 in /Users/mac/anaconda3/lib/python3.11/site-packages (from snowflake-connector-python) (1.15.1)\n",
      "Requirement already satisfied: cryptography<42.0.0,>=3.1.0 in /Users/mac/anaconda3/lib/python3.11/site-packages (from snowflake-connector-python) (41.0.2)\n",
      "Requirement already satisfied: oscrypto<2.0.0 in /Users/mac/anaconda3/lib/python3.11/site-packages (from snowflake-connector-python) (1.3.0)\n",
      "Requirement already satisfied: pyOpenSSL<24.0.0,>=16.2.0 in /Users/mac/anaconda3/lib/python3.11/site-packages (from snowflake-connector-python) (23.2.0)\n",
      "Requirement already satisfied: pycryptodomex!=3.5.0,<4.0.0,>=3.2 in /Users/mac/anaconda3/lib/python3.11/site-packages (from snowflake-connector-python) (3.19.0)\n",
      "Requirement already satisfied: pyjwt<3.0.0 in /Users/mac/anaconda3/lib/python3.11/site-packages (from snowflake-connector-python) (2.4.0)\n",
      "Requirement already satisfied: pytz in /Users/mac/anaconda3/lib/python3.11/site-packages (from snowflake-connector-python) (2022.7)\n",
      "Requirement already satisfied: requests<3.0.0 in /Users/mac/anaconda3/lib/python3.11/site-packages (from snowflake-connector-python) (2.31.0)\n",
      "Requirement already satisfied: packaging in /Users/mac/anaconda3/lib/python3.11/site-packages (from snowflake-connector-python) (23.0)\n",
      "Requirement already satisfied: charset-normalizer<4,>=2 in /Users/mac/anaconda3/lib/python3.11/site-packages (from snowflake-connector-python) (2.0.4)\n",
      "Requirement already satisfied: idna<4,>=2.5 in /Users/mac/anaconda3/lib/python3.11/site-packages (from snowflake-connector-python) (3.4)\n",
      "Requirement already satisfied: urllib3<1.27,>=1.21.1 in /Users/mac/anaconda3/lib/python3.11/site-packages (from snowflake-connector-python) (1.26.16)\n",
      "Requirement already satisfied: certifi>=2017.4.17 in /Users/mac/anaconda3/lib/python3.11/site-packages (from snowflake-connector-python) (2023.7.22)\n",
      "Requirement already satisfied: typing-extensions<5,>=4.3 in /Users/mac/anaconda3/lib/python3.11/site-packages (from snowflake-connector-python) (4.7.1)\n",
      "Requirement already satisfied: filelock<4,>=3.5 in /Users/mac/anaconda3/lib/python3.11/site-packages (from snowflake-connector-python) (3.9.0)\n",
      "Requirement already satisfied: sortedcontainers>=2.4.0 in /Users/mac/anaconda3/lib/python3.11/site-packages (from snowflake-connector-python) (2.4.0)\n",
      "Requirement already satisfied: platformdirs<4.0.0,>=2.6.0 in /Users/mac/anaconda3/lib/python3.11/site-packages (from snowflake-connector-python) (3.11.0)\n",
      "Requirement already satisfied: tomlkit in /Users/mac/anaconda3/lib/python3.11/site-packages (from snowflake-connector-python) (0.11.1)\n",
      "Requirement already satisfied: pycparser in /Users/mac/anaconda3/lib/python3.11/site-packages (from cffi<2.0.0,>=1.9->snowflake-connector-python) (2.21)\n",
      "Note: you may need to restart the kernel to use updated packages.\n"
     ]
    }
   ],
   "source": [
    "pip install snowflake-connector-python"
   ]
  },
  {
   "cell_type": "code",
   "execution_count": 8,
   "metadata": {},
   "outputs": [
    {
     "name": "stdout",
     "output_type": "stream",
     "text": [
      "added successfully\n"
     ]
    }
   ],
   "source": [
    "import pandas as pd\n",
    "\n",
    "# Snowflake connector libraries\n",
    "import snowflake.connector as snow\n",
    "from snowflake.connector.pandas_tools import write_pandas\n",
    "\n",
    "def print_success():\n",
    "  print(\"added successfully\")\n",
    "\n",
    "# Your code here\n",
    "\n",
    "print_success()\n",
    "\n",
    "\n"
   ]
  },
  {
   "cell_type": "code",
   "execution_count": 11,
   "metadata": {},
   "outputs": [],
   "source": [
    "\n",
    "#ConnectionStringModule\n",
    "def create_connection():\n",
    "   conn = snow.connect(user=\"ZAKSNOW001\",\n",
    "   password=\"zakSNOW:;234\",\n",
    "   account=\"bnggnnl-md37357\",\n",
    "   warehouse=\"COMPUTE_WH\",\n",
    "   database=\"PROJ20DB\",\n",
    "   schema=\"PROJ20SCHEMA\")\n",
    "   cursor = conn.cursor()\n",
    "   print('SQL Connection Created')\n",
    "   return cursor,conn\n",
    "\n",
    "\n"
   ]
  },
  {
   "cell_type": "code",
   "execution_count": 12,
   "metadata": {},
   "outputs": [
    {
     "name": "stdout",
     "output_type": "stream",
     "text": [
      "Starting Script\n",
      "SQL Connection Created\n",
      "Tables truncated\n",
      "SQL Connection Created\n",
      "Titles file read\n",
      "Credits file read\n",
      "Titles file loaded\n",
      "Credits file loaded\n"
     ]
    }
   ],
   "source": [
    "#TruncateTableModuleIfExists\n",
    "def truncate_table():\n",
    "   cur,conn=create_connection()\n",
    "   sql_titles = \"TRUNCATE TABLE IF EXISTS TITLES_RAW\"\n",
    "   sql_credits = \"TRUNCATE TABLE IF EXISTS CREDITS_RAW\"\n",
    "   cur.execute(sql_titles)\n",
    "   cur.execute(sql_credits)\n",
    "   print('Tables truncated')\n",
    "\n",
    "#DynamicallyCreateAndLoadDatainSnowflake\n",
    "def load_data():\n",
    "   cur,conn=create_connection()\n",
    "   titles_file = r\"/Users/mac/Library/CloudStorage/OneDrive-Personal/Data Engineer Programs/ProjectPro/dbt fundamentals/Code/datasets/titles.csv\" # <- Replace with your path.\n",
    "   titles_delimiter = \",\" # Replace if you're using a different delimiter.\n",
    "   credits_file=r\"/Users/mac/Library/CloudStorage/OneDrive-Personal/Data Engineer Programs/ProjectPro/dbt fundamentals/Code/datasets/credits.csv\"\n",
    "   credits_delimiter=\",\"\n",
    "\n",
    "   titles_df = pd.read_csv(titles_file, sep = titles_delimiter)\n",
    "   print(\"Titles file read\")\n",
    "   credits_df = pd.read_csv(credits_file, sep = titles_delimiter)\n",
    "   print(\"Credits file read\")\n",
    "\n",
    "   write_pandas(conn, titles_df, \"TITLES\",auto_create_table=True)\n",
    "   print('Titles file loaded')\n",
    "   write_pandas(conn, credits_df, \"CREDITS\",auto_create_table=True)\n",
    "   print('Credits file loaded')\n",
    "\n",
    "   cur = conn.cursor()\n",
    "\n",
    "\n",
    "   #endconnection\n",
    "   cur.close()\n",
    "   conn.close()\n",
    "\n",
    "print(\"Starting Script\")\n",
    "truncate_table()\n",
    "load_data()"
   ]
  },
  {
   "cell_type": "code",
   "execution_count": 14,
   "metadata": {},
   "outputs": [
    {
     "name": "stdout",
     "output_type": "stream",
     "text": [
      "\u001b[31mERROR: Could not find a version that satisfies the requirement dbt-kernel (from versions: none)\u001b[0m\u001b[31m\n",
      "\u001b[0m\u001b[31mERROR: No matching distribution found for dbt-kernel\u001b[0m\u001b[31m\n",
      "\u001b[0mNote: you may need to restart the kernel to use updated packages.\n"
     ]
    }
   ],
   "source": [
    "pip install dbt-kernel"
   ]
  }
 ],
 "metadata": {
  "kernelspec": {
   "display_name": "base",
   "language": "python",
   "name": "python3"
  },
  "language_info": {
   "codemirror_mode": {
    "name": "ipython",
    "version": 3
   },
   "file_extension": ".py",
   "mimetype": "text/x-python",
   "name": "python",
   "nbconvert_exporter": "python",
   "pygments_lexer": "ipython3",
   "version": "3.11.4"
  },
  "orig_nbformat": 4
 },
 "nbformat": 4,
 "nbformat_minor": 2
}
